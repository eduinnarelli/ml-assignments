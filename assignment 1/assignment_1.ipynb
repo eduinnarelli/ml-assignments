{
  "nbformat": 4,
  "nbformat_minor": 0,
  "metadata": {
    "colab": {
      "name": "2020s2-mc886-assignment-01.ipynb",
      "provenance": [],
      "collapsed_sections": [],
      "toc_visible": true
    },
    "kernelspec": {
      "name": "python3",
      "display_name": "Python 3"
    }
  },
  "cells": [
    {
      "cell_type": "markdown",
      "metadata": {
        "id": "Cs9E_R5yD48u"
      },
      "source": [
        "# **Assignment \\#1**: Machine Learning MC886\n",
        "University of Campinas (UNICAMP), Institute of Computing (IC)\n",
        "\n",
        "Prof. Sandra Avila, 2020s2\n",
        "\n",
        "**Group**:\n",
        "- Bruno Benitez de Carvalho (167920)\n",
        "- Eduardo Barros Innarelli (170161)\n"
      ]
    },
    {
      "cell_type": "markdown",
      "metadata": {
        "id": "JVrPmVQ6fWbT"
      },
      "source": [
        "---\n",
        "\n",
        "If you're using Google Colab, connect it with Google Drive to have access to the datasets:"
      ]
    },
    {
      "cell_type": "code",
      "metadata": {
        "id": "v3BJBqeghHwQ",
        "outputId": "6b9bb0a8-b7cf-4fb9-a5f8-a03c4ec83384",
        "colab": {
          "base_uri": "https://localhost:8080/",
          "height": 34
        }
      },
      "source": [
        "# Load the Drive helper and mount\n",
        "from google.colab import drive\n",
        "\n",
        "# This will prompt for authorization\n",
        "drive.mount('/content/drive')"
      ],
      "execution_count": null,
      "outputs": [
        {
          "output_type": "stream",
          "text": [
            "Drive already mounted at /content/drive; to attempt to forcibly remount, call drive.mount(\"/content/drive\", force_remount=True).\n"
          ],
          "name": "stdout"
        }
      ]
    },
    {
      "cell_type": "code",
      "metadata": {
        "id": "0Dg3VoL5fFIu",
        "outputId": "ec91c34c-f662-4a18-ddd0-b07fbab42e6e",
        "colab": {
          "base_uri": "https://localhost:8080/",
          "height": 52
        }
      },
      "source": [
        "# Go to the assignment directory (it depends on where it's saved in your Drive)\n",
        "% cd '/content/drive/My Drive/[MC886] Assignments/Assignment 1'\n",
        "! ls"
      ],
      "execution_count": null,
      "outputs": [
        {
          "output_type": "stream",
          "text": [
            "/content/drive/My Drive/[MC886] Assignments/Assignment 1\n",
            "2020s2-mc886-assignment-01.ipynb  diamonds-test.csv  diamonds-train.csv\n"
          ],
          "name": "stdout"
        }
      ]
    },
    {
      "cell_type": "markdown",
      "metadata": {
        "id": "IVGH2s7fD_03"
      },
      "source": [
        "---\n",
        "\n",
        "## Objective \n",
        "\n",
        "Explore **linear regression** alternatives and come up with the best possible model to the problems, avoiding overfitting. In particular, predict the **price of diamonds** from their attributes (e.g., depth, clarity, color) using the Diamonds dataset (https://www.kaggle.com/shivam2503/diamonds)"
      ]
    },
    {
      "cell_type": "markdown",
      "metadata": {
        "id": "r3XDZRGqEwsk"
      },
      "source": [
        "## Dataset\n",
        "\n",
        "The Diamonds dataset contains the prices and attributes of almost 50,000 diamonds.\n",
        "\n",
        "Dataset Information: You should respect the following training/test split: 45,000 training examples, and 5,000 test examples.\n",
        "\n",
        "There are 9 attributes as follows: \n",
        "\n",
        "- 1: **carat**: weight of the diamond (0.2-5.01)\n",
        "- 2: **cut**: quality of the cut (Fair, Good, Very Good, Premium, Ideal)\n",
        "- 3: **color**: diamond color, from J (worst) to D (best)\n",
        "- 4: **clarity**: a measurement of how clear the diamond is (I1 (worst), SI2, SI1, VS2, VS1, VVS2, VVS1, IF (best))\n",
        "- 5: **x**: length in mm (0-10.74)\n",
        "- 6: **y**: width in mm (0-58.9)\n",
        "- 7: **z**: depth in mm (0-31.8)\n",
        "- 8: **depth**: total depth percentage = z / mean(x, y) = 2 * z / (x + y) (43-79)\n",
        "- 9: **table**: width of top of diamond relative to widest point (43-95)\n",
        "\n",
        "\n",
        "target **price**: price in US dollars\n",
        "\n",
        "The data is available at\n",
        "https://www.dropbox.com/s/tmz8bkocrpfmfb9/diamonds-dataset.zip\n"
      ]
    },
    {
      "cell_type": "markdown",
      "metadata": {
        "id": "kdSGS4brHnAi"
      },
      "source": [
        "## Deadline\n",
        "\n",
        "Monday, October 12th 7 pm. \n",
        "\n",
        "Penalty policy for late submission: You are not encouraged to submit your assignment after due date. However, in case you did, your grade will be penalized as follows:\n",
        "- October 13th 7 pm : grade * 0.75\n",
        "- October 14th 7 pm : grade * 0.5\n",
        "- October 15th 7 pm : grade * 0.25\n"
      ]
    },
    {
      "cell_type": "markdown",
      "metadata": {
        "id": "joN9pvZJIfW5"
      },
      "source": [
        "## Submission\n",
        "\n",
        "On Google Classroom, submit your Jupyter Notebook (in Portuguese or English).\n",
        "\n",
        "**This activity is NOT individual, it must be done in pairs (two-person group).**"
      ]
    },
    {
      "cell_type": "markdown",
      "metadata": {
        "id": "OGrb4UecmH4A"
      },
      "source": [
        "## Dependencies"
      ]
    },
    {
      "cell_type": "code",
      "metadata": {
        "id": "qy0542BQmOYS"
      },
      "source": [
        "# For efficient array manipulation\n",
        "import numpy as np\n",
        "\n",
        "# For data analysis & manipulation\n",
        "import pandas as pd\n",
        "\n",
        "# For data visualization\n",
        "from IPython.display import display\n",
        "import matplotlib.pyplot as plt\n",
        "import seaborn as sns\n",
        "%matplotlib inline\n",
        "\n",
        "# For training models\n",
        "from sklearn.linear_model import SGDRegressor\n",
        "from sklearn.metrics import mean_squared_error\n",
        "\n",
        "# For ignoring some sklearn warnings\n",
        "import warnings\n",
        "from sklearn.exceptions import ConvergenceWarning\n",
        "\n",
        "# For training progress visualization\n",
        "from tqdm import tqdm\n",
        "\n",
        "# For time tracking\n",
        "from time import time"
      ],
      "execution_count": null,
      "outputs": []
    },
    {
      "cell_type": "markdown",
      "metadata": {
        "id": "aZgUH3bPGacp"
      },
      "source": [
        "---\n",
        "**Note**: the part of the text relative to what Sandra asked in the assignment is quoted and highlighted.\n",
        "\n",
        "## **Activity 1.** Linear Regression (4 points) \n",
        "\n",
        "> **Perform Linear Regression. You should implement your solution and compare it with ```sklearn.linear_model.SGDRegressor``` (linear model fitted by minimizing a regularized empirical loss with SGD, http://scikit-learn.org). Keep in mind that friends don't let friends use testing data for training :-)**\n"
      ]
    },
    {
      "cell_type": "markdown",
      "metadata": {
        "id": "tqxLe6EUz1yz"
      },
      "source": [
        "### **1.1.** Load and preprocess your dataset.\n",
        "\n",
        "In this step we will define some functions to pre-process both the training and the test sets."
      ]
    },
    {
      "cell_type": "code",
      "metadata": {
        "id": "3y0QxxH1KgE1"
      },
      "source": [
        "# Load training dataset\n",
        "data = {\n",
        "    'train':pd.read_csv(\"diamonds-train.csv\"),\n",
        "    'test': pd.read_csv(\"diamonds-test.csv\")\n",
        "}"
      ],
      "execution_count": null,
      "outputs": []
    },
    {
      "cell_type": "markdown",
      "metadata": {
        "id": "6YmIxgMN2Tx1"
      },
      "source": [
        "The dimensionality features can be combined into a new volume feature and be dropped."
      ]
    },
    {
      "cell_type": "code",
      "metadata": {
        "id": "gXVvIJjc22tA"
      },
      "source": [
        "def convert_dim_into_vol(df):\n",
        "  ''' \n",
        "  Function that converts the dimensions 'x', 'y' and 'z' into a single\n",
        "  volume feature in the diamonds dataframe, returning the modified\n",
        "  dataframe.\n",
        "  '''\n",
        "\n",
        "  # Create new feature\n",
        "  df['vol'] = df['x']*df['y']*df['z']\n",
        "\n",
        "  # Drop dimensions (axis=1 tells pandas to drop columns)\n",
        "  df.drop(['x', 'y', 'z'], axis=1, inplace=True)\n",
        "\n",
        "  return df\n"
      ],
      "execution_count": null,
      "outputs": []
    },
    {
      "cell_type": "code",
      "metadata": {
        "id": "5L3KD5eqtrd9",
        "outputId": "0f0c798c-269d-4d4c-a835-de914567aa1f",
        "colab": {
          "base_uri": "https://localhost:8080/",
          "height": 284
        }
      },
      "source": [
        "# Trigger conversion for both sets\n",
        "data = {k: convert_dim_into_vol(df) for k, df in data.items()}\n",
        "\n",
        "# Assert number of columns in dataframe after reduction\n",
        "assert len(data['train'].columns) == 8\n",
        "\n",
        "# Show descriptive analysis\n",
        "data['train'].describe()"
      ],
      "execution_count": null,
      "outputs": [
        {
          "output_type": "execute_result",
          "data": {
            "text/html": [
              "<div>\n",
              "<style scoped>\n",
              "    .dataframe tbody tr th:only-of-type {\n",
              "        vertical-align: middle;\n",
              "    }\n",
              "\n",
              "    .dataframe tbody tr th {\n",
              "        vertical-align: top;\n",
              "    }\n",
              "\n",
              "    .dataframe thead th {\n",
              "        text-align: right;\n",
              "    }\n",
              "</style>\n",
              "<table border=\"1\" class=\"dataframe\">\n",
              "  <thead>\n",
              "    <tr style=\"text-align: right;\">\n",
              "      <th></th>\n",
              "      <th>carat</th>\n",
              "      <th>depth</th>\n",
              "      <th>table</th>\n",
              "      <th>price</th>\n",
              "      <th>vol</th>\n",
              "    </tr>\n",
              "  </thead>\n",
              "  <tbody>\n",
              "    <tr>\n",
              "      <th>count</th>\n",
              "      <td>45000.000000</td>\n",
              "      <td>45000.000000</td>\n",
              "      <td>45000.000000</td>\n",
              "      <td>45000.000000</td>\n",
              "      <td>45000.000000</td>\n",
              "    </tr>\n",
              "    <tr>\n",
              "      <th>mean</th>\n",
              "      <td>0.797932</td>\n",
              "      <td>61.745629</td>\n",
              "      <td>57.456700</td>\n",
              "      <td>3933.763022</td>\n",
              "      <td>129.753118</td>\n",
              "    </tr>\n",
              "    <tr>\n",
              "      <th>std</th>\n",
              "      <td>0.473871</td>\n",
              "      <td>1.425219</td>\n",
              "      <td>2.237483</td>\n",
              "      <td>3987.830151</td>\n",
              "      <td>76.463311</td>\n",
              "    </tr>\n",
              "    <tr>\n",
              "      <th>min</th>\n",
              "      <td>0.200000</td>\n",
              "      <td>43.000000</td>\n",
              "      <td>43.000000</td>\n",
              "      <td>326.000000</td>\n",
              "      <td>0.000000</td>\n",
              "    </tr>\n",
              "    <tr>\n",
              "      <th>25%</th>\n",
              "      <td>0.400000</td>\n",
              "      <td>61.000000</td>\n",
              "      <td>56.000000</td>\n",
              "      <td>952.000000</td>\n",
              "      <td>65.288325</td>\n",
              "    </tr>\n",
              "    <tr>\n",
              "      <th>50%</th>\n",
              "      <td>0.700000</td>\n",
              "      <td>61.800000</td>\n",
              "      <td>57.000000</td>\n",
              "      <td>2401.000000</td>\n",
              "      <td>114.785402</td>\n",
              "    </tr>\n",
              "    <tr>\n",
              "      <th>75%</th>\n",
              "      <td>1.040000</td>\n",
              "      <td>62.500000</td>\n",
              "      <td>59.000000</td>\n",
              "      <td>5330.000000</td>\n",
              "      <td>170.914509</td>\n",
              "    </tr>\n",
              "    <tr>\n",
              "      <th>max</th>\n",
              "      <td>5.010000</td>\n",
              "      <td>78.200000</td>\n",
              "      <td>95.000000</td>\n",
              "      <td>18823.000000</td>\n",
              "      <td>790.133208</td>\n",
              "    </tr>\n",
              "  </tbody>\n",
              "</table>\n",
              "</div>"
            ],
            "text/plain": [
              "              carat         depth         table         price           vol\n",
              "count  45000.000000  45000.000000  45000.000000  45000.000000  45000.000000\n",
              "mean       0.797932     61.745629     57.456700   3933.763022    129.753118\n",
              "std        0.473871      1.425219      2.237483   3987.830151     76.463311\n",
              "min        0.200000     43.000000     43.000000    326.000000      0.000000\n",
              "25%        0.400000     61.000000     56.000000    952.000000     65.288325\n",
              "50%        0.700000     61.800000     57.000000   2401.000000    114.785402\n",
              "75%        1.040000     62.500000     59.000000   5330.000000    170.914509\n",
              "max        5.010000     78.200000     95.000000  18823.000000    790.133208"
            ]
          },
          "metadata": {
            "tags": []
          },
          "execution_count": 203
        }
      ]
    },
    {
      "cell_type": "markdown",
      "metadata": {
        "id": "NeqN52rZ0YB0"
      },
      "source": [
        "Note that there are diamonds with `vol = 0` (`min` row). We can drop them, as they aren't relevant to our model."
      ]
    },
    {
      "cell_type": "code",
      "metadata": {
        "id": "dTDW2l4HtyYv"
      },
      "source": [
        "def drop_null_vol_rows(df):\n",
        "  '''\n",
        "  Function that drop the rows where volume is 0 in the diamonds dataframe, \n",
        "  returning the modified dataframe.\n",
        "  '''\n",
        "\n",
        "  # Get index of rows where vol is 0\n",
        "  indexes = df[df['vol'] == 0].index\n",
        "\n",
        "  # Drop these rows\n",
        "  df.drop(indexes, inplace=True)\n",
        "\n",
        "  return df\n"
      ],
      "execution_count": null,
      "outputs": []
    },
    {
      "cell_type": "code",
      "metadata": {
        "id": "ZRoklp4k0_gp"
      },
      "source": [
        "# Call drop function for both sets\n",
        "data = {k: drop_null_vol_rows(df) for k, df in data.items()}\n",
        "\n",
        "# Assert that these rows were correctly dropped\n",
        "assert len(data['train'][data['train']['vol'] == 0]) == 0"
      ],
      "execution_count": null,
      "outputs": []
    },
    {
      "cell_type": "markdown",
      "metadata": {
        "id": "Cvtnp6_nc4TW"
      },
      "source": [
        "Now, we have to convert the categorical features `cut`, `color` and `clarity` into numbers, in order for the model to process them. As the categorical features of this problem are ordinal, we can use Label Encoding to achieve that. \n",
        "\n",
        "These features categories aren't alphabetically ordered from worst to best. To keep their natural order after encoding, we manually define custom mapping dictionaries and use the pandas replace function."
      ]
    },
    {
      "cell_type": "code",
      "metadata": {
        "id": "Xa5MzeFpuT4z"
      },
      "source": [
        "def encode_categories(df):\n",
        "  ''' \n",
        "  Function that label encode the categorical features 'cut', 'color' and\n",
        "  'clarity' in the diamonds dataframe, returning the modified dataframe.  \n",
        "  '''\n",
        "\n",
        "  # Label encode 'cut'\n",
        "  cut_mapping = {\n",
        "      \"Fair\": 0, \n",
        "      \"Good\": 1, \n",
        "      \"Very Good\": 2, \n",
        "      \"Premium\": 3, \n",
        "      \"Ideal\": 4\n",
        "  }\n",
        "  df = df.replace({\"cut\": cut_mapping})\n",
        "\n",
        "  # Label encode 'color'\n",
        "  color_mapping = {\n",
        "      \"J\": 0, \n",
        "      \"H\": 1, \n",
        "      \"I\": 2, \n",
        "      \"G\": 3, \n",
        "      \"F\": 4, \n",
        "      \"E\": 5, \n",
        "      \"D\": 6\n",
        "  }\n",
        "  df = df.replace({\"color\": color_mapping})\n",
        "\n",
        "  # Label encode 'clarity'\n",
        "  clarity_mapping = {\n",
        "      \"I1\": 0, \n",
        "      \"SI2\": 1, \n",
        "      \"SI1\": 2, \n",
        "      \"VS2\": 3, \n",
        "      \"VS1\": 4, \n",
        "      \"VVS2\": 5, \n",
        "      \"VVS1\": 6, \n",
        "      \"IF\": 7\n",
        "  }\n",
        "  df = df.replace({\"clarity\": clarity_mapping})\n",
        "\n",
        "  return df\n"
      ],
      "execution_count": null,
      "outputs": []
    },
    {
      "cell_type": "code",
      "metadata": {
        "id": "ag9UTYQIfxCc"
      },
      "source": [
        "# Trigger encoding in both sets\n",
        "data = {k: encode_categories(df) for k, df in data.items()}\n",
        "\n",
        "# Assert types\n",
        "for dtype in data['train'].dtypes:\n",
        "  assert dtype in ['int64', 'float64'] "
      ],
      "execution_count": null,
      "outputs": []
    },
    {
      "cell_type": "markdown",
      "metadata": {
        "id": "tWGmDPBip-L8"
      },
      "source": [
        "Finally, we normalize all the data by dividing each cell by the maximum value in it's column to potentially accelerate the gradient descent method, and detach the training features $X$ and targets $y$. The targets are also scaled to avoid large prediction errors, which could make the learning process unstable.\n",
        "\n",
        "[Click here](https://machinelearningmastery.com/how-to-improve-neural-network-stability-and-modeling-performance-with-data-scaling/) for a nice reference about data scaling."
      ]
    },
    {
      "cell_type": "code",
      "metadata": {
        "id": "umWbFNj-FJYZ"
      },
      "source": [
        "def normalize_data(df):\n",
        "  '''\n",
        "  Function that normalizes a dataframe to 0-1 range, returning the modified\n",
        "  dataframe.\n",
        "  '''\n",
        "\n",
        "  # Divide each cell by it's column maximum value\n",
        "  for col in df.columns:\n",
        "    df[col] = df[col] / np.max(df[col])\n",
        "\n",
        "  return df\n"
      ],
      "execution_count": null,
      "outputs": []
    },
    {
      "cell_type": "code",
      "metadata": {
        "id": "djeEQEAtDy9i"
      },
      "source": [
        "# Normalize data in both sets\n",
        "data = {k: normalize_data(df) for k, df in data.items()}\n",
        "\n",
        "# Detach training and test features\n",
        "X = data['train'].drop(columns='price')\n",
        "X_test = data['test'].drop(columns='price')\n",
        "\n",
        "# Detach training and test targets\n",
        "y = data['train']['price']\n",
        "y_test = data['test']['price']"
      ],
      "execution_count": null,
      "outputs": []
    },
    {
      "cell_type": "markdown",
      "metadata": {
        "id": "u_jztgJqJh1V"
      },
      "source": [
        "The dataset is now ready for training!"
      ]
    },
    {
      "cell_type": "code",
      "metadata": {
        "id": "22IevP2JOFCg",
        "outputId": "05fa80e6-706b-4535-98b1-703223cca46c",
        "colab": {
          "base_uri": "https://localhost:8080/",
          "height": 354
        }
      },
      "source": [
        "print('Pre-processed features (5 examples):')\n",
        "display(X.head())\n",
        "\n",
        "print('\\nTargets (5 examples):')\n",
        "display(y.head())"
      ],
      "execution_count": null,
      "outputs": [
        {
          "output_type": "stream",
          "text": [
            "Pre-processed features (5 examples):\n"
          ],
          "name": "stdout"
        },
        {
          "output_type": "display_data",
          "data": {
            "text/html": [
              "<div>\n",
              "<style scoped>\n",
              "    .dataframe tbody tr th:only-of-type {\n",
              "        vertical-align: middle;\n",
              "    }\n",
              "\n",
              "    .dataframe tbody tr th {\n",
              "        vertical-align: top;\n",
              "    }\n",
              "\n",
              "    .dataframe thead th {\n",
              "        text-align: right;\n",
              "    }\n",
              "</style>\n",
              "<table border=\"1\" class=\"dataframe\">\n",
              "  <thead>\n",
              "    <tr style=\"text-align: right;\">\n",
              "      <th></th>\n",
              "      <th>carat</th>\n",
              "      <th>cut</th>\n",
              "      <th>color</th>\n",
              "      <th>clarity</th>\n",
              "      <th>depth</th>\n",
              "      <th>table</th>\n",
              "      <th>vol</th>\n",
              "    </tr>\n",
              "  </thead>\n",
              "  <tbody>\n",
              "    <tr>\n",
              "      <th>0</th>\n",
              "      <td>0.323353</td>\n",
              "      <td>1.00</td>\n",
              "      <td>0.333333</td>\n",
              "      <td>0.428571</td>\n",
              "      <td>0.794118</td>\n",
              "      <td>0.578947</td>\n",
              "      <td>0.338795</td>\n",
              "    </tr>\n",
              "    <tr>\n",
              "      <th>1</th>\n",
              "      <td>0.059880</td>\n",
              "      <td>0.75</td>\n",
              "      <td>0.500000</td>\n",
              "      <td>0.285714</td>\n",
              "      <td>0.751918</td>\n",
              "      <td>0.631579</td>\n",
              "      <td>0.062114</td>\n",
              "    </tr>\n",
              "    <tr>\n",
              "      <th>2</th>\n",
              "      <td>0.273453</td>\n",
              "      <td>1.00</td>\n",
              "      <td>0.666667</td>\n",
              "      <td>0.571429</td>\n",
              "      <td>0.762148</td>\n",
              "      <td>0.600000</td>\n",
              "      <td>0.287377</td>\n",
              "    </tr>\n",
              "    <tr>\n",
              "      <th>3</th>\n",
              "      <td>0.065868</td>\n",
              "      <td>0.00</td>\n",
              "      <td>0.166667</td>\n",
              "      <td>0.714286</td>\n",
              "      <td>0.832481</td>\n",
              "      <td>0.621053</td>\n",
              "      <td>0.068321</td>\n",
              "    </tr>\n",
              "    <tr>\n",
              "      <th>4</th>\n",
              "      <td>0.063872</td>\n",
              "      <td>0.50</td>\n",
              "      <td>0.666667</td>\n",
              "      <td>0.428571</td>\n",
              "      <td>0.751918</td>\n",
              "      <td>0.652632</td>\n",
              "      <td>0.065809</td>\n",
              "    </tr>\n",
              "  </tbody>\n",
              "</table>\n",
              "</div>"
            ],
            "text/plain": [
              "      carat   cut     color   clarity     depth     table       vol\n",
              "0  0.323353  1.00  0.333333  0.428571  0.794118  0.578947  0.338795\n",
              "1  0.059880  0.75  0.500000  0.285714  0.751918  0.631579  0.062114\n",
              "2  0.273453  1.00  0.666667  0.571429  0.762148  0.600000  0.287377\n",
              "3  0.065868  0.00  0.166667  0.714286  0.832481  0.621053  0.068321\n",
              "4  0.063872  0.50  0.666667  0.428571  0.751918  0.652632  0.065809"
            ]
          },
          "metadata": {
            "tags": []
          }
        },
        {
          "output_type": "stream",
          "text": [
            "\n",
            "Targets (5 examples):\n"
          ],
          "name": "stdout"
        },
        {
          "output_type": "display_data",
          "data": {
            "text/plain": [
              "0    0.557881\n",
              "1    0.030495\n",
              "2    0.618871\n",
              "3    0.048983\n",
              "4    0.031982\n",
              "Name: price, dtype: float64"
            ]
          },
          "metadata": {
            "tags": []
          }
        }
      ]
    },
    {
      "cell_type": "markdown",
      "metadata": {
        "id": "i2un-z9svlF3"
      },
      "source": [
        "### **1.2.** Linear Regression manual implementation.\n",
        "\n",
        "First, assume our pre-processed dataset have $m$ training examples (rows) and $n$ feature types (columns). To facilitate later, let:\n",
        "\n",
        "\\begin{align}\n",
        "\\hat{X} & = (\\vec{1}_{m \\times 1} | X) \\\\\n",
        "\\end{align}\n",
        "\n",
        "This is a concatenation between a $m \\times 1$ array of ones and $X$.\n"
      ]
    },
    {
      "cell_type": "code",
      "metadata": {
        "id": "jVzw91VkW1gg"
      },
      "source": [
        "# Concatenate y-intercept column\n",
        "X_hat = pd.concat([pd.Series(1, index=X.index, name='intercept'), X], axis=1)"
      ],
      "execution_count": null,
      "outputs": []
    },
    {
      "cell_type": "markdown",
      "metadata": {
        "id": "noHEomgGW2C_"
      },
      "source": [
        "Before writing the gradient descent (GD) algorithm, we must define some functions it uses, such as the hypothesis and the cost functions. \n",
        "\n",
        "**Hypothesis**: function that maps a input into a approximation of the the unknown target. It can be vectorized into a $m \\times 1$ array as follows, being $\\theta$ the function coefficients:\n",
        "\n",
        "\\begin{align}\n",
        "h_{\\theta}(\\hat{X}) & = \\hat{X} \\theta \\\\\n",
        "\\end{align}\n",
        "\n",
        "The column filled with ones we added earlier represents the *y*-intercept term in the hypothesis.   \n",
        "\n",
        "[Click here](https://medium.com/analytics-vidhya/vectorized-implementation-of-gradient-descent-in-linear-regression-12a10ea37210) for a nice reference about gradient descent vectorization. We chose to implement this way as it's cleaner and speeds up the Python code.  "
      ]
    },
    {
      "cell_type": "code",
      "metadata": {
        "id": "HEtI-NeVX9cv"
      },
      "source": [
        "# Define hypothesis function\n",
        "h = lambda X_hat, theta : X_hat @ theta"
      ],
      "execution_count": null,
      "outputs": []
    },
    {
      "cell_type": "markdown",
      "metadata": {
        "id": "f3-tVyVlZvfP"
      },
      "source": [
        "**Cost**: function that measures the model error to be minimized by the algorithm. To punish large errors in prediction, we opted to use the Mean Square Error (MSE) cost function, vectorized ($m \\times 1$) as:\n",
        "\n",
        "\\begin{align}\n",
        "J_{X,y}(\\theta) & = \\frac{1}{2m}({h_{\\theta}(\\hat{X})} - y)^2 \\\\\n",
        "\\end{align}\n"
      ]
    },
    {
      "cell_type": "code",
      "metadata": {
        "id": "P_AcOVe3du-3"
      },
      "source": [
        "# Define cost function\n",
        "J = lambda theta, X_hat, y : (1/2) * np.mean(np.square(h(X_hat, theta) - y))"
      ],
      "execution_count": null,
      "outputs": []
    },
    {
      "cell_type": "markdown",
      "metadata": {
        "id": "cjE6jnlqoOq-"
      },
      "source": [
        "The vector of partial derivatives of $J$ with respect to the parameters $\\theta$ (a.k.a. gradient) indicates in which direction the algorithm should move to minimize $J$. More specifically, the direction of the negative gradient points to the minimum cost, which can be reached by decrementing the vector magnitude from $\\theta$. Thus, we have the **gradient descent** step, also defined in a vectorized ($n \\times 1$, $n$ being the number of columns) manner:\n",
        "\n",
        "\\begin{align}\n",
        "\\theta & := \\theta - \\alpha\\frac{1}{m}\\hat{X}^T(h_{\\theta}(\\hat{X}) - y) \\\\\n",
        "\\end{align}\n",
        "\n",
        "Where $\\alpha$ is a hyperparameter that corresponds to a learning rate and is usually very small, to ensure that the method will converge. We can also choose for how many rows to compute the gradient in each epoch iteration by splitting the dataset into batches. This affects the algorithm convergence time and \"smoothness\", which we will analyze further in the last activity."
      ]
    },
    {
      "cell_type": "code",
      "metadata": {
        "id": "LNFdWDkNwstd"
      },
      "source": [
        "def get_batches(df, batch_size):\n",
        "  '''\n",
        "  Function that shuffles the data rows and split them into batches of size\n",
        "  `batch_size`, returning an array of these batches. \n",
        "  '''\n",
        "\n",
        "  # Shuffle training data, if we want to split it\n",
        "  shuffled = df.sample(frac=1) if len(df) > batch_size else df\n",
        "\n",
        "  # Return splitted data\n",
        "  return shuffled.groupby(np.arange(len(df))//batch_size)\n"
      ],
      "execution_count": null,
      "outputs": []
    },
    {
      "cell_type": "markdown",
      "metadata": {
        "id": "do6NSSFDx98J"
      },
      "source": [
        "We are now ready to implement and run the method itself. Notice that we split the dataset into two at the beginning, one for training with $\\frac{2}{3}$ of the examples and other for validation with $\\frac{1}{3}$."
      ]
    },
    {
      "cell_type": "code",
      "metadata": {
        "id": "D9cpdif9JxFR"
      },
      "source": [
        "def gd_regression(X_hat, y, alpha=0.01, n_epochs=15000, batch_size=None):\n",
        "  '''\n",
        "  Gradient descent method that updates the parameters of a model for a \n",
        "  regression problem with a MSE cost function, returning a tuple with the \n",
        "  fitted parameters and all epochs training and validation costs.\n",
        "  '''\n",
        "\n",
        "  train_history = []\n",
        "  val_history = []\n",
        "\n",
        "  # By default, run a full-batch GD\n",
        "  if batch_size is None:\n",
        "    batch_size = len(X_hat)\n",
        "\n",
        "  # Split training and validation set\n",
        "  X_hat_train, X_hat_val = np.split(X_hat, [int((2/3) * len(X_hat))])\n",
        "  y_train, y_val = np.split(y, [int((2/3) * len(y))])\n",
        "\n",
        "  # Initialize theta with zeros\n",
        "  theta = np.array([0]*len(X_hat.columns))\n",
        "\n",
        "  for i in tqdm(range(n_epochs), position=0, unit='epoch'):\n",
        "\n",
        "    # We shuffle X_hat_train and y_train concatenated, to generate stable \n",
        "    # batches\n",
        "    concat_data = pd.concat([X_hat_train, y_train], axis=1)\n",
        "    batches = get_batches(concat_data, batch_size)\n",
        "\n",
        "    for (_, batch) in batches:\n",
        "\n",
        "      # Detach X_hat_train and y_train portions from batch\n",
        "      X_hat_batch = batch.drop(columns='price')\n",
        "      y_batch = batch['price']\n",
        "\n",
        "      # Update parameters\n",
        "      gradient = (1/batch_size) * (\n",
        "          X_hat_batch.T @ (h(X_hat_batch, theta) - y_batch)\n",
        "      )\n",
        "      theta = theta - alpha * gradient\n",
        "\n",
        "      # Save new training and validation costs\n",
        "      train_history.append(J(theta, X_hat_train, y_train))\n",
        "      val_history.append(J(theta, X_hat_val, y_val))\n",
        "\n",
        "  return theta, train_history, val_history\n"
      ],
      "execution_count": null,
      "outputs": []
    },
    {
      "cell_type": "code",
      "metadata": {
        "id": "adv95TGH8nlM",
        "outputId": "14c6ebea-399b-478f-8862-5a2c1afeaa90",
        "colab": {
          "base_uri": "https://localhost:8080/",
          "height": 34
        }
      },
      "source": [
        "# Run gradient descent algorithm\n",
        "sol = gd_regression(X_hat, y)\n",
        "\n",
        "# Detach solution\n",
        "gd_lr_theta, lr_train_history, lr_val_history = sol"
      ],
      "execution_count": null,
      "outputs": [
        {
          "output_type": "stream",
          "text": [
            "100%|██████████| 15000/15000 [04:55<00:00, 50.68epoch/s]\n"
          ],
          "name": "stderr"
        }
      ]
    },
    {
      "cell_type": "markdown",
      "metadata": {
        "id": "pg2Y9TrJ8N9v"
      },
      "source": [
        "With the training and validation history in hands, we can plot them together to evaluate the fitted model."
      ]
    },
    {
      "cell_type": "code",
      "metadata": {
        "id": "ylIACcYVvfHR"
      },
      "source": [
        "def plot_cost_history(train_history, val_history):\n",
        "  '''\n",
        "  Function that plots the training and validation cost per iteration curves side\n",
        "  by side. \n",
        "  '''\n",
        "\n",
        "  iterations = range(1, len(train_history) + 1) \n",
        "  plt.plot(iterations, train_history, 'r--')\n",
        "  plt.plot(iterations, val_history, 'b-')\n",
        "  plt.legend(['Training Cost', 'Validation Cost'])\n",
        "  plt.xlabel('Iteration')\n",
        "  plt.ylabel('Cost')\n",
        "  plt.show()\n"
      ],
      "execution_count": null,
      "outputs": []
    },
    {
      "cell_type": "code",
      "metadata": {
        "id": "QFaOpbNoupJX",
        "outputId": "b88da632-9ab1-46b4-e3d0-315df39a7913",
        "colab": {
          "base_uri": "https://localhost:8080/",
          "height": 316
        }
      },
      "source": [
        "# Visualize cost history\n",
        "plot_cost_history(lr_train_history, lr_val_history)\n",
        "\n",
        "# Print last training and validation costs\n",
        "print(f'Last training cost: {lr_train_history[-1]}')\n",
        "print(f'Last validation cost: {lr_val_history[-1]}')"
      ],
      "execution_count": null,
      "outputs": [
        {
          "output_type": "display_data",
          "data": {
            "image/png": "[encoded data removed]",
            "text/plain": [
              "<Figure size 432x288 with 1 Axes>"
            ]
          },
          "metadata": {
            "tags": [],
            "needs_background": "light"
          }
        },
        {
          "output_type": "stream",
          "text": [
            "Last training cost: 0.0034709954557405175\n",
            "Last validation cost: 0.0035383108462760733\n"
          ],
          "name": "stdout"
        }
      ]
    },
    {
      "cell_type": "markdown",
      "metadata": {
        "id": "-SYyk_CZLFSV"
      },
      "source": [
        "The train and validation curves are very close to each other, which indicates that the model didn't overfit to the training data. To see if the model generalizes well for the problem, let's check how it performs on the test set."
      ]
    },
    {
      "cell_type": "code",
      "metadata": {
        "id": "VkE5OJAn5FuF",
        "outputId": "ad857bbd-5af9-4fd4-86fc-9b6e72733899",
        "colab": {
          "base_uri": "https://localhost:8080/",
          "height": 34
        }
      },
      "source": [
        "# Concatenate y-intercept column in test set to evaluate cost\n",
        "X_hat_test = pd.concat(\n",
        "    [pd.Series(1, index=X_test.index, name='intercept'), X_test], axis=1\n",
        ")\n",
        "\n",
        "# Print test cost\n",
        "print(f'Test cost: {J(gd_lr_theta, X_hat_test, y_test)}')"
      ],
      "execution_count": null,
      "outputs": [
        {
          "output_type": "stream",
          "text": [
            "Test cost: 0.0049475396921107966\n"
          ],
          "name": "stdout"
        }
      ]
    },
    {
      "cell_type": "markdown",
      "metadata": {
        "id": "QFGopnepmL9l"
      },
      "source": [
        "Fortunately, the test cost is close to the training and validation costs, which shows that the trained model generalized well.\n",
        "\n",
        "### **1.3.** Linear Regression scikit-learn implementation.\n",
        "\n",
        "Lastly, we'll compare our implementation with the one provided by the `scikit-learn` library, more specifically with `sklearn.linear_model.SGDRegressor`. To make a fair comparison, we'll use the same hyperparameters we used in the manual implementation."
      ]
    },
    {
      "cell_type": "code",
      "metadata": {
        "id": "aHeCvlsHHmq9",
        "outputId": "b3b1875a-b324-4486-a4fe-2d47f55234c2",
        "colab": {
          "base_uri": "https://localhost:8080/",
          "height": 105
        }
      },
      "source": [
        "# Initialize model\n",
        "model = SGDRegressor(\n",
        "    alpha=0.01, \n",
        "    max_iter=15000, \n",
        "    n_iter_no_change=15000 # no stopping criteria\n",
        ")\n",
        "\n",
        "# Ignore convergence warnings\n",
        "warnings.filterwarnings(action='ignore', category=ConvergenceWarning)\n",
        "\n",
        "# Store actual time to calculate train execution time\n",
        "start = time()\n",
        "print('Training...')\n",
        "\n",
        "# Fit the data (train the model)\n",
        "model.fit(X, y)\n",
        "\n",
        "# Show execution time\n",
        "print(f'Train completed after {time() - start}s.\\n')\n",
        "\n",
        "# See how it performs on the training and test data (divide MSE by 2 as that's\n",
        "# the actual cost function we used)\n",
        "print(f'Training cost: {mean_squared_error(y, model.predict(X)) / 2}')\n",
        "print(f'Test cost: {mean_squared_error(y_test, model.predict(X_test)) / 2}')"
      ],
      "execution_count": null,
      "outputs": [
        {
          "output_type": "stream",
          "text": [
            "Training...\n",
            "Train completed after 98.47721433639526s.\n",
            "\n",
            "Training cost: 0.005390928449575417\n",
            "Test cost: 0.0053151983366235426\n"
          ],
          "name": "stdout"
        }
      ]
    },
    {
      "cell_type": "markdown",
      "metadata": {
        "id": "zBNZQNImKQeo"
      },
      "source": [
        "\n",
        "> **What are the conclusions? (1-2 paragraphs)**\n",
        "\n",
        "Using the same parameters, i.e. alpha and number of epochs, we can see that our implementation of Gradient Descent is approximately 3 times slower than the `scikit-learn` routine; 292s versus 95s. However, our manual implementation hit a better score at training and testing costs. Here are the results:\n",
        "\n",
        "  - Manual training cost: 0.0034709954557405175, versus sklearn training cost: 0.005390345582451047. \n",
        "  - Manual testing cost: 0.0049475396921107966, versus sklearn testing cost: 0.005346963216568733.\n",
        "\n",
        "Since we have no goal of error to reach and we are trying to hit a number very close to zero, we can say that both models worked very well. However, it is important to say that the difference between the results of implementations, even if they are on the scale of $10^{-3}$, can be very important.\n"
      ]
    },
    {
      "cell_type": "markdown",
      "metadata": {
        "id": "XrPl7jKgJPW6"
      },
      "source": [
        "---\n",
        "## **Activities 2 & 3.** Increasing Model Complexity (3 points)\n",
        "\n",
        "**Note to teacher:** we put activities 2 and 3 together because one was a direct continuation of the other and we thought it would make more sense to write a single conclusion for both.\n",
        "\n",
        ">**Sometimes, we need some more complex function to make good prediction. Devise and test a more complex model. Plot the cost function vs. number of iterations in the training set and analyze the model complexity.**\n",
        "\n",
        "In this step, we opted to add polynomial features of degree 2 relating to all the features in the original dataset in order to create a more complex model. "
      ]
    },
    {
      "cell_type": "code",
      "metadata": {
        "id": "qyu7RpIehsdr"
      },
      "source": [
        "def create_square_features(df):\n",
        "  '''\n",
        "  Function that creates square features for the dataframe it receives and \n",
        "  returns these features in a new dataframe.\n",
        "  '''\n",
        "\n",
        "  # Create new features\n",
        "  return df.rename(columns={name: name + '_2' for name in df.columns})**2\n"
      ],
      "execution_count": null,
      "outputs": []
    },
    {
      "cell_type": "code",
      "metadata": {
        "id": "GjGbg41PMHR9",
        "outputId": "242dcd83-5a04-4f5a-9b56-8d3642da56cf",
        "colab": {
          "base_uri": "https://localhost:8080/",
          "height": 213
        }
      },
      "source": [
        "# Create new features for the train and test datasets\n",
        "X_square = create_square_features(X)\n",
        "X_square_test = create_square_features(X_test)\n",
        "\n",
        "# Concatenate them in the dataframes with the intercept column\n",
        "X_pol = pd.concat([X_hat, X_square], axis=1)\n",
        "X_pol_test = pd.concat([X_hat_test, X_square_test], axis=1)\n",
        "\n",
        "# Display the new dataframe\n",
        "print('Dataset with square features (5 examples):')\n",
        "display(X_pol.head())"
      ],
      "execution_count": null,
      "outputs": [
        {
          "output_type": "stream",
          "text": [
            "Dataset with square features (5 examples):\n"
          ],
          "name": "stdout"
        },
        {
          "output_type": "display_data",
          "data": {
            "text/html": [
              "<div>\n",
              "<style scoped>\n",
              "    .dataframe tbody tr th:only-of-type {\n",
              "        vertical-align: middle;\n",
              "    }\n",
              "\n",
              "    .dataframe tbody tr th {\n",
              "        vertical-align: top;\n",
              "    }\n",
              "\n",
              "    .dataframe thead th {\n",
              "        text-align: right;\n",
              "    }\n",
              "</style>\n",
              "<table border=\"1\" class=\"dataframe\">\n",
              "  <thead>\n",
              "    <tr style=\"text-align: right;\">\n",
              "      <th></th>\n",
              "      <th>intercept</th>\n",
              "      <th>carat</th>\n",
              "      <th>cut</th>\n",
              "      <th>color</th>\n",
              "      <th>clarity</th>\n",
              "      <th>depth</th>\n",
              "      <th>table</th>\n",
              "      <th>vol</th>\n",
              "      <th>carat_2</th>\n",
              "      <th>cut_2</th>\n",
              "      <th>color_2</th>\n",
              "      <th>clarity_2</th>\n",
              "      <th>depth_2</th>\n",
              "      <th>table_2</th>\n",
              "      <th>vol_2</th>\n",
              "    </tr>\n",
              "  </thead>\n",
              "  <tbody>\n",
              "    <tr>\n",
              "      <th>0</th>\n",
              "      <td>1</td>\n",
              "      <td>0.323353</td>\n",
              "      <td>1.00</td>\n",
              "      <td>0.333333</td>\n",
              "      <td>0.428571</td>\n",
              "      <td>0.794118</td>\n",
              "      <td>0.578947</td>\n",
              "      <td>0.338795</td>\n",
              "      <td>0.104557</td>\n",
              "      <td>1.0000</td>\n",
              "      <td>0.111111</td>\n",
              "      <td>0.183673</td>\n",
              "      <td>0.630623</td>\n",
              "      <td>0.335180</td>\n",
              "      <td>0.114782</td>\n",
              "    </tr>\n",
              "    <tr>\n",
              "      <th>1</th>\n",
              "      <td>1</td>\n",
              "      <td>0.059880</td>\n",
              "      <td>0.75</td>\n",
              "      <td>0.500000</td>\n",
              "      <td>0.285714</td>\n",
              "      <td>0.751918</td>\n",
              "      <td>0.631579</td>\n",
              "      <td>0.062114</td>\n",
              "      <td>0.003586</td>\n",
              "      <td>0.5625</td>\n",
              "      <td>0.250000</td>\n",
              "      <td>0.081633</td>\n",
              "      <td>0.565381</td>\n",
              "      <td>0.398892</td>\n",
              "      <td>0.003858</td>\n",
              "    </tr>\n",
              "    <tr>\n",
              "      <th>2</th>\n",
              "      <td>1</td>\n",
              "      <td>0.273453</td>\n",
              "      <td>1.00</td>\n",
              "      <td>0.666667</td>\n",
              "      <td>0.571429</td>\n",
              "      <td>0.762148</td>\n",
              "      <td>0.600000</td>\n",
              "      <td>0.287377</td>\n",
              "      <td>0.074777</td>\n",
              "      <td>1.0000</td>\n",
              "      <td>0.444444</td>\n",
              "      <td>0.326531</td>\n",
              "      <td>0.580870</td>\n",
              "      <td>0.360000</td>\n",
              "      <td>0.082586</td>\n",
              "    </tr>\n",
              "    <tr>\n",
              "      <th>3</th>\n",
              "      <td>1</td>\n",
              "      <td>0.065868</td>\n",
              "      <td>0.00</td>\n",
              "      <td>0.166667</td>\n",
              "      <td>0.714286</td>\n",
              "      <td>0.832481</td>\n",
              "      <td>0.621053</td>\n",
              "      <td>0.068321</td>\n",
              "      <td>0.004339</td>\n",
              "      <td>0.0000</td>\n",
              "      <td>0.027778</td>\n",
              "      <td>0.510204</td>\n",
              "      <td>0.693024</td>\n",
              "      <td>0.385706</td>\n",
              "      <td>0.004668</td>\n",
              "    </tr>\n",
              "    <tr>\n",
              "      <th>4</th>\n",
              "      <td>1</td>\n",
              "      <td>0.063872</td>\n",
              "      <td>0.50</td>\n",
              "      <td>0.666667</td>\n",
              "      <td>0.428571</td>\n",
              "      <td>0.751918</td>\n",
              "      <td>0.652632</td>\n",
              "      <td>0.065809</td>\n",
              "      <td>0.004080</td>\n",
              "      <td>0.2500</td>\n",
              "      <td>0.444444</td>\n",
              "      <td>0.183673</td>\n",
              "      <td>0.565381</td>\n",
              "      <td>0.425928</td>\n",
              "      <td>0.004331</td>\n",
              "    </tr>\n",
              "  </tbody>\n",
              "</table>\n",
              "</div>"
            ],
            "text/plain": [
              "   intercept     carat   cut     color  ...  clarity_2   depth_2   table_2     vol_2\n",
              "0          1  0.323353  1.00  0.333333  ...   0.183673  0.630623  0.335180  0.114782\n",
              "1          1  0.059880  0.75  0.500000  ...   0.081633  0.565381  0.398892  0.003858\n",
              "2          1  0.273453  1.00  0.666667  ...   0.326531  0.580870  0.360000  0.082586\n",
              "3          1  0.065868  0.00  0.166667  ...   0.510204  0.693024  0.385706  0.004668\n",
              "4          1  0.063872  0.50  0.666667  ...   0.183673  0.565381  0.425928  0.004331\n",
              "\n",
              "[5 rows x 15 columns]"
            ]
          },
          "metadata": {
            "tags": []
          }
        }
      ]
    },
    {
      "cell_type": "markdown",
      "metadata": {
        "id": "o5SLf0zVmTtY"
      },
      "source": [
        "Let's train the model with the modified dataset using the functions we implemented in the previous activity:"
      ]
    },
    {
      "cell_type": "code",
      "metadata": {
        "id": "XTfvbNvRnzyx",
        "outputId": "6ad99b9c-ab27-4e20-ef21-e727fd8dcf99",
        "colab": {
          "base_uri": "https://localhost:8080/",
          "height": 34
        }
      },
      "source": [
        "# Run gradient descent algorithm\n",
        "sol = gd_regression(X_pol, y)\n",
        "\n",
        "# Detach solution\n",
        "gd_pr_theta, pr_train_history, pr_val_history = sol"
      ],
      "execution_count": null,
      "outputs": [
        {
          "output_type": "stream",
          "text": [
            "100%|██████████| 15000/15000 [06:15<00:00, 39.95epoch/s]\n"
          ],
          "name": "stderr"
        }
      ]
    },
    {
      "cell_type": "markdown",
      "metadata": {
        "id": "z54RSi1UwPRT"
      },
      "source": [
        "Now we can graphically and numerically evaluate how well the polynomial model performs:"
      ]
    },
    {
      "cell_type": "code",
      "metadata": {
        "id": "hpkbgfGssAsA",
        "outputId": "e443a57d-2997-4c0d-9257-0bd4dfeb5d6f",
        "colab": {
          "base_uri": "https://localhost:8080/",
          "height": 336
        }
      },
      "source": [
        "# Visualize cost history\n",
        "plot_cost_history(pr_train_history, pr_val_history)\n",
        "\n",
        "# Print last training and validation costs + test cost\n",
        "print(f'Last training cost: {pr_train_history[-1]}')\n",
        "print(f'Last validation cost: {pr_val_history[-1]}')\n",
        "print(f'Test cost: {J(gd_pr_theta, X_pol_test, y_test)}')"
      ],
      "execution_count": null,
      "outputs": [
        {
          "output_type": "display_data",
          "data": {
            "image/png": "[encoded data removed]",
            "text/plain": [
              "<Figure size 432x288 with 1 Axes>"
            ]
          },
          "metadata": {
            "tags": [],
            "needs_background": "light"
          }
        },
        {
          "output_type": "stream",
          "text": [
            "Last training cost: 0.0029425190853065507\n",
            "Last validation cost: 0.0030380190735988712\n",
            "Test cost: 0.005421486413982499\n"
          ],
          "name": "stdout"
        }
      ]
    },
    {
      "cell_type": "markdown",
      "metadata": {
        "id": "ZUX0AraaNH-e"
      },
      "source": [
        "> **What are the conclusions? What are the actions after such analyses? (2-4 paragraphs)**\n",
        "\n",
        "\n",
        "First, we would like to note that even though we've used the same amount of epochs, the regression took much more time to complete (375s). One of the possible explanations is that since we doubled the number of columns when we squared each one of the features and concatenated them with the originals, the algorithm takes more time to complete epochs. \n",
        "\n",
        "Secondly, the training and validation costs are smaller than the manual and sklearn ones. At first sight we can say that that's good. But if we look carefully, we can also note that the test cost is almost 10% bigger than the manual one, and 2% than the sklearn one. This can be a sign of overfitting. Our parameters fit better for training instances, but a little bit worse on testing instances.\n",
        "\n",
        "Taking into account that we doubled the number of columns, and the results did not differ much, the group considers that the more complex model proved to be unnecessary, since better results were obtained with a simpler model."
      ]
    },
    {
      "cell_type": "markdown",
      "metadata": {
        "id": "ADxPBRhuK_Vq"
      },
      "source": [
        "---\n",
        "## **Activity 4.** Hyperparameters & Normal Equation (3 points)\n",
        "\n",
        ">**Use different Gradient Descent (GD) learning rates when optimizing. Compare the GD-based solutions with Normal Equation. You should implement your solutions. What are the conclusions?**"
      ]
    },
    {
      "cell_type": "markdown",
      "metadata": {
        "id": "n4ZwlgqQ8uzd"
      },
      "source": [
        "### **4.1.** Normal equation.\n",
        "\n",
        "In the last activities we used fixed hyperparameters (learning rate and batch size) expecting it would bring good results, but we're finding it a bit hard to evaluate if the results are indeed good. The normal equation, vectorized below, can help in that evaluation, as in theory it returns the optimal model parameters ($\\theta$). \n",
        "\n",
        "\\begin{align}\n",
        "\\theta & = (\\hat{X}^T \\cdot \\hat{X})^{-1} \\cdot \\hat{X}^T \\cdot y\n",
        "\\end{align}\n",
        "\n",
        "[Click here](https://ayearofai.com/rohan-3-deriving-the-normal-equation-using-matrix-calculus-1a1b16f65dda) for details on how this equation is obtained."
      ]
    },
    {
      "cell_type": "code",
      "metadata": {
        "id": "x3G3AuO--bhS",
        "outputId": "54151a82-7ad1-435f-ac05-564922876c59",
        "colab": {
          "base_uri": "https://localhost:8080/",
          "height": 34
        }
      },
      "source": [
        "# Define normal equation function\n",
        "normal_eq = lambda X_hat, y: np.linalg.inv(X_hat.T @ X_hat) @ X_hat.T @ y\n",
        "\n",
        "# Get parameters\n",
        "start = time()\n",
        "opt_theta = normal_eq(X_hat, y)\n",
        "print(f'Optimal parameters obtained after {time() - start}s.')\n",
        "\n",
        "# Re-label indexes, as the labels are lost when we apply the normal equation \n",
        "opt_theta.index = gd_lr_theta.index"
      ],
      "execution_count": null,
      "outputs": [
        {
          "output_type": "stream",
          "text": [
            "Optimal parameters obtained after 0.05561542510986328s.\n"
          ],
          "name": "stdout"
        }
      ]
    },
    {
      "cell_type": "markdown",
      "metadata": {
        "id": "JySgVhSQAGoW"
      },
      "source": [
        "It's evident how much faster it is to calculate $\\theta$ with the normal equation. We'll now compare the parameters returned by it with the ones returned by the gradient descent method at activity 1, as well as the model costs with these parameters."
      ]
    },
    {
      "cell_type": "code",
      "metadata": {
        "id": "D3hn3Dw8_6Ud",
        "outputId": "3144785a-057a-4ef5-b1e3-6da71c17261b",
        "colab": {
          "base_uri": "https://localhost:8080/",
          "height": 439
        }
      },
      "source": [
        "# Print parameters\n",
        "print(f'Normal equation parameters:\\n{opt_theta}\\n')\n",
        "print(f'Gradient descent parameters:\\n{gd_lr_theta}\\n')\n",
        "\n",
        "# Print normal equation costs\n",
        "print(\n",
        "    'Normal equation training cost: ' +\n",
        "    f'{J(opt_theta, X_hat, y)} ' +\n",
        "    f'(GD: {lr_train_history[-1]})'\n",
        ")\n",
        "print(\n",
        "    'Normal equation test cost: ' +\n",
        "    f'{J(opt_theta, X_hat_test, y_test)} ' +\n",
        "    f'(GD: {J(gd_lr_theta, X_hat_test, y_test)})'\n",
        ")"
      ],
      "execution_count": null,
      "outputs": [
        {
          "output_type": "stream",
          "text": [
            "Normal equation parameters:\n",
            "intercept   -0.271794\n",
            "carat        0.658097\n",
            "cut          0.023201\n",
            "color        0.091376\n",
            "clarity      0.191162\n",
            "depth       -0.014180\n",
            "table       -0.051402\n",
            "vol          1.625205\n",
            "dtype: float64\n",
            "\n",
            "Gradient descent parameters:\n",
            "intercept   -0.059365\n",
            "carat        0.839683\n",
            "cut          0.006877\n",
            "color        0.018811\n",
            "clarity      0.075288\n",
            "depth       -0.056210\n",
            "table       -0.016425\n",
            "vol          0.863519\n",
            "dtype: float64\n",
            "\n",
            "Normal equation training cost: 0.0021674635822085714 (GD: 0.0034709954557405175)\n",
            "Normal equation test cost: 0.00704991571539183 (GD: 0.0049475396921107966)\n"
          ],
          "name": "stdout"
        }
      ]
    },
    {
      "cell_type": "markdown",
      "metadata": {
        "id": "qiX9M_3X-yqb"
      },
      "source": [
        "It looks like the optimal parameters fit better to the training data than the GD solution, but generalize worse to the test data. This gives us more confidence about the quality of the model obtained in activity 1."
      ]
    },
    {
      "cell_type": "markdown",
      "metadata": {
        "id": "K4T-nnd9QODx"
      },
      "source": [
        "### **4.2.** Testing different hyperparameters.\n",
        "\n",
        "Now we know that the gradient descent algorithm with the hyperparameters we chose returns a good model for the problem. But can it improve? Let's tweak these hyperparameters and see what happens."
      ]
    },
    {
      "cell_type": "markdown",
      "metadata": {
        "id": "NlVhOCqBTUDd"
      },
      "source": [
        "#### **4.2.1** Batch size.\n",
        "\n",
        "In activity 1 we run a full-batch GD, i.e., used the whole training data to update $\\theta$ in each epoch. In this section, we'll test a mini-batch GD (update for one batch of examples at a time) and a stochastic GD (update for one example at a time), in order to see how each approach compare to each other. We also tweak the number of epochs to keep the number of iterations stable between the approaches."
      ]
    },
    {
      "cell_type": "markdown",
      "metadata": {
        "id": "-3RIwT91WPnU"
      },
      "source": [
        "##### **4.2.1.1** Mini-batch GD.\n",
        "\n",
        "Here, the data is splitted into batches of 2056 examples. As more updates per epochs will happen, the number of epochs was reduced to 1000."
      ]
    },
    {
      "cell_type": "code",
      "metadata": {
        "id": "swYSQAPLWAn4",
        "outputId": "805fa585-929e-4bdc-f9d8-8c564a85538f",
        "colab": {
          "base_uri": "https://localhost:8080/",
          "height": 34
        }
      },
      "source": [
        "# Run mini-batch gradient descent algorithm\n",
        "sol = gd_regression(X_hat, y, batch_size=2056, n_epochs=1000)\n",
        "\n",
        "# Detach solution\n",
        "mb_gd_theta, mb_train_history, mb_val_history = sol"
      ],
      "execution_count": null,
      "outputs": [
        {
          "output_type": "stream",
          "text": [
            "100%|██████████| 1000/1000 [02:17<00:00,  7.29epoch/s]\n"
          ],
          "name": "stderr"
        }
      ]
    },
    {
      "cell_type": "code",
      "metadata": {
        "id": "gO74G8rtb77S",
        "outputId": "24d87d21-1a93-4e4f-877c-e4a094fe89af",
        "colab": {
          "base_uri": "https://localhost:8080/",
          "height": 332
        }
      },
      "source": [
        "# Visualize cost history\n",
        "plot_cost_history(mb_train_history, mb_val_history)\n",
        "\n",
        "# Print last training and validation costs + test cost\n",
        "print(f'Last training cost: {mb_train_history[-1]}')\n",
        "print(f'Last validation cost: {mb_val_history[-1]}')\n",
        "print(f'Test cost: {J(mb_gd_theta, X_hat_test, y_test)}')"
      ],
      "execution_count": null,
      "outputs": [
        {
          "output_type": "display_data",
          "data": {
            "image/png": "[encoded data removed]",
            "text/plain": [
              "<Figure size 432x288 with 1 Axes>"
            ]
          },
          "metadata": {
            "tags": [],
            "needs_background": "light"
          }
        },
        {
          "output_type": "stream",
          "text": [
            "Last training cost: 0.002572214680446164\n",
            "Last validation cost: 0.0026413921879656025\n",
            "Test cost: 0.005259494380414103\n"
          ],
          "name": "stdout"
        }
      ]
    },
    {
      "cell_type": "markdown",
      "metadata": {
        "id": "oi22zQqXevfi"
      },
      "source": [
        "##### **4.2.1.1** Stochastic GD.\n",
        "\n",
        "Here, one update is triggered for one example in the training set at each iteration. As 30000 updates per epochs will happen, we just run 1 epoch (which still means twice as much iterations as in the previous approaches)."
      ]
    },
    {
      "cell_type": "code",
      "metadata": {
        "id": "V9Bd1xBVfDJv",
        "outputId": "32e0b390-9fda-49b2-fc4e-8db208b5c19d",
        "colab": {
          "base_uri": "https://localhost:8080/",
          "height": 34
        }
      },
      "source": [
        "# Run stochastic gradient descent algorithm\n",
        "sol = gd_regression(X_hat, y, batch_size=1, n_epochs=1)\n",
        "\n",
        "# Detach solution\n",
        "sgd_theta, s_train_history, s_val_history = sol"
      ],
      "execution_count": null,
      "outputs": [
        {
          "output_type": "stream",
          "text": [
            "100%|██████████| 1/1 [03:51<00:00, 231.42s/epoch]\n"
          ],
          "name": "stderr"
        }
      ]
    },
    {
      "cell_type": "code",
      "metadata": {
        "id": "kXZfSl_u48xB",
        "outputId": "8e039d7f-db9f-4675-995f-f59637dbf2ea",
        "colab": {
          "base_uri": "https://localhost:8080/",
          "height": 332
        }
      },
      "source": [
        "# Visualize cost history\n",
        "plot_cost_history(s_train_history, s_val_history)\n",
        "\n",
        "# Print last training and validation costs + test cost\n",
        "print(f'Last training cost: {s_train_history[-1]}')\n",
        "print(f'Last validation cost: {s_val_history[-1]}')\n",
        "print(f'Test cost: {J(sgd_theta, X_hat_test, y_test)}')"
      ],
      "execution_count": null,
      "outputs": [
        {
          "output_type": "display_data",
          "data": {
            "image/png": "[encoded data removed]",
            "text/plain": [
              "<Figure size 432x288 with 1 Axes>"
            ]
          },
          "metadata": {
            "tags": [],
            "needs_background": "light"
          }
        },
        {
          "output_type": "stream",
          "text": [
            "Last training cost: 0.002164419719323098\n",
            "Last validation cost: 0.0022300518034152478\n",
            "Test cost: 0.006831584889004863\n"
          ],
          "name": "stdout"
        }
      ]
    },
    {
      "cell_type": "markdown",
      "metadata": {
        "id": "r2SagcMd6Wj1"
      },
      "source": [
        "#### **4.2.2** Learning rate.\n",
        "\n",
        "To choose a learning rate ($\\alpha$) means to find a balance between training progress and stability: a value too small can make it stuck while a value too big can make it unstable. In this section, we'll test two different $\\alpha$ values from the one we used earlier ($0.01$), one bigger ($0.1$) and one smaller ($0.001$)."
      ]
    },
    {
      "cell_type": "markdown",
      "metadata": {
        "id": "komNHqA3ADeo"
      },
      "source": [
        "##### **4.2.2.1** $\\alpha = 0.1$.\n"
      ]
    },
    {
      "cell_type": "code",
      "metadata": {
        "id": "RSZ1pLItNVbU",
        "outputId": "551ebd9d-16a3-4bfa-91be-cc2519179ab1",
        "colab": {
          "base_uri": "https://localhost:8080/",
          "height": 34
        }
      },
      "source": [
        "# Run gradient descent algorithm\n",
        "sol = gd_regression(X_hat, y, alpha=0.1)\n",
        "\n",
        "# Detach solution\n",
        "a0_1_gd_theta, a0_1_gd_train_history, a0_1_gd_val_history = sol"
      ],
      "execution_count": null,
      "outputs": [
        {
          "output_type": "stream",
          "text": [
            "100%|██████████| 15000/15000 [04:50<00:00, 51.65epoch/s]\n"
          ],
          "name": "stderr"
        }
      ]
    },
    {
      "cell_type": "code",
      "metadata": {
        "id": "BBEpuQIvBxBw",
        "outputId": "495289bd-a101-4c6f-b7cb-1b12cd1688c1",
        "colab": {
          "base_uri": "https://localhost:8080/",
          "height": 332
        }
      },
      "source": [
        "# Visualize cost history\n",
        "plot_cost_history(a0_1_gd_train_history, a0_1_gd_val_history)\n",
        "\n",
        "# Print last training and validation costs + test cost\n",
        "print(f'Last training cost: {a0_1_gd_train_history[-1]}')\n",
        "print(f'Last validation cost: {a0_1_gd_val_history[-1]}')\n",
        "print(f'Test cost: {J(a0_1_gd_theta, X_hat_test, y_test)}')"
      ],
      "execution_count": null,
      "outputs": [
        {
          "output_type": "display_data",
          "data": {
            "image/png": "[encoded data removed]",
            "text/plain": [
              "<Figure size 432x288 with 1 Axes>"
            ]
          },
          "metadata": {
            "tags": [],
            "needs_background": "light"
          }
        },
        {
          "output_type": "stream",
          "text": [
            "Last training cost: 0.0021484442149686017\n",
            "Last validation cost: 0.002212038602066878\n",
            "Test cost: 0.006662959788172206\n"
          ],
          "name": "stdout"
        }
      ]
    },
    {
      "cell_type": "markdown",
      "metadata": {
        "id": "FjvT2ItWCED4"
      },
      "source": [
        "##### **4.2.2.2** $\\alpha = 0.001$.\n"
      ]
    },
    {
      "cell_type": "code",
      "metadata": {
        "id": "FLmvFguNCDic",
        "outputId": "0d77e46a-c845-42be-e1b2-4098fdade0b8",
        "colab": {
          "base_uri": "https://localhost:8080/",
          "height": 34
        }
      },
      "source": [
        "# Run gradient descent algorithm\n",
        "sol = gd_regression(X_hat, y, alpha=0.001)\n",
        "\n",
        "# Detach solution\n",
        "a0_001_gd_theta, a0_001_gd_train_history, a0_001_gd_val_history = sol"
      ],
      "execution_count": null,
      "outputs": [
        {
          "output_type": "stream",
          "text": [
            "100%|██████████| 15000/15000 [04:46<00:00, 52.39epoch/s]\n"
          ],
          "name": "stderr"
        }
      ]
    },
    {
      "cell_type": "code",
      "metadata": {
        "id": "pOd2aDJdCPJh",
        "outputId": "1b94bd37-aef7-4336-ff80-2c17d73c07c7",
        "colab": {
          "base_uri": "https://localhost:8080/",
          "height": 332
        }
      },
      "source": [
        "# Visualize cost history\n",
        "plot_cost_history(a0_001_gd_train_history, a0_001_gd_val_history)\n",
        "\n",
        "# Print last training and validation costs + test cost\n",
        "print(f'Last training cost: {a0_001_gd_train_history[-1]}')\n",
        "print(f'Last validation cost: {a0_001_gd_val_history[-1]}')\n",
        "print(f'Test cost: {J(a0_001_gd_theta, X_hat_test, y_test)}')"
      ],
      "execution_count": null,
      "outputs": [
        {
          "output_type": "display_data",
          "data": {
            "image/png": "[encoded data removed]",
            "text/plain": [
              "<Figure size 432x288 with 1 Axes>"
            ]
          },
          "metadata": {
            "tags": [],
            "needs_background": "light"
          }
        },
        {
          "output_type": "stream",
          "text": [
            "Last training cost: 0.01593979085931902\n",
            "Last validation cost: 0.015940537050502357\n",
            "Test cost: 0.01500575862105768\n"
          ],
          "name": "stdout"
        }
      ]
    },
    {
      "cell_type": "markdown",
      "metadata": {
        "id": "vbGOQzcsNSOm"
      },
      "source": [
        "> **What are the conclusions? (2-4 paragraphs)**\n"
      ]
    },
    {
      "cell_type": "markdown",
      "metadata": {
        "id": "r9V4NUi--sA1"
      },
      "source": [
        "On all tests (except the last one), the costs for training and validation were smaller than our first manual implementation, being closer to the optimum provided by the normal equation. But the test costs were also larger than in the first result. Just like in the previous activity, this can be interpreted as a sign of overfitting: the closer to the optimum, the better the model fits the test set, which leads to a worse generalization. It is interesting to see that our first implementation hit the best test cost overall.\n",
        "\n",
        "The variations of $\\alpha$ values also showed that our first pick was the best one in this regard. We did not calculate or test the values for this hyperparameter. We simply did some research and most of the fonts suggested the value of $0.01$. And it's also very interesting to see that our last test, with $\\alpha=0.001$, hit the worst cost overall. This result showed us how important is the choice of the learning rate.\n",
        "\n",
        "On the Stochastic GD method, we can graphically observe the fluctuation of the costs, which is also expected. The running time is also a little bit shorter. Although the test cost is slightly larger than our batch implementation, it is not as big as our last test with $\\alpha=0.001$. "
      ]
    }
  ]
}